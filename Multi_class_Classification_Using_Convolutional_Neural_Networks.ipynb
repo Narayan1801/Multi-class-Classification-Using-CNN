{
  "nbformat": 4,
  "nbformat_minor": 0,
  "metadata": {
    "colab": {
      "name": "Multi_class_Classification_Using_Convolutional_Neural_Networks.ipynb",
      "provenance": []
    },
    "kernelspec": {
      "name": "python3",
      "display_name": "Python 3"
    },
    "language_info": {
      "name": "python"
    }
  },
  "cells": [
    {
      "cell_type": "code",
      "execution_count": null,
      "metadata": {
        "id": "u32d0s7iK5f6"
      },
      "outputs": [],
      "source": [
        "import pandas as pd\n",
        "import numpy as np\n",
        "import matplotlib.pyplot as plt\n",
        "%matplotlib inline"
      ]
    },
    {
      "cell_type": "code",
      "source": [
        "import tensorflow as tf\n",
        "from tensorflow import keras"
      ],
      "metadata": {
        "id": "xfNzkXYsLta6"
      },
      "execution_count": null,
      "outputs": []
    },
    {
      "cell_type": "code",
      "source": [
        "fashion_mnist = keras.datasets.fashion_mnist\n",
        "(X_train_full,y_train_full),(X_test,y_test) = fashion_mnist.load_data()"
      ],
      "metadata": {
        "colab": {
          "base_uri": "https://localhost:8080/"
        },
        "id": "t-1xx-RQL6PL",
        "outputId": "8c1158d4-9d8a-44f1-8d70-10b490c46a61"
      },
      "execution_count": null,
      "outputs": [
        {
          "output_type": "stream",
          "name": "stdout",
          "text": [
            "Downloading data from https://storage.googleapis.com/tensorflow/tf-keras-datasets/train-labels-idx1-ubyte.gz\n",
            "32768/29515 [=================================] - 0s 0us/step\n",
            "40960/29515 [=========================================] - 0s 0us/step\n",
            "Downloading data from https://storage.googleapis.com/tensorflow/tf-keras-datasets/train-images-idx3-ubyte.gz\n",
            "26427392/26421880 [==============================] - 0s 0us/step\n",
            "26435584/26421880 [==============================] - 0s 0us/step\n",
            "Downloading data from https://storage.googleapis.com/tensorflow/tf-keras-datasets/t10k-labels-idx1-ubyte.gz\n",
            "16384/5148 [===============================================================================================] - 0s 0us/step\n",
            "Downloading data from https://storage.googleapis.com/tensorflow/tf-keras-datasets/t10k-images-idx3-ubyte.gz\n",
            "4423680/4422102 [==============================] - 0s 0us/step\n",
            "4431872/4422102 [==============================] - 0s 0us/step\n"
          ]
        }
      ]
    },
    {
      "cell_type": "code",
      "source": [
        "class_names = [\"T-shirt/top\",\"Trouser\",\"Pullover\",\"Dress\",\"Coat\",\"Sandal\",\"Shirt\",\"Sneaker\",\"Bag\",\"Ankle boot\"]"
      ],
      "metadata": {
        "id": "sGhgClC8MMRA"
      },
      "execution_count": null,
      "outputs": []
    },
    {
      "cell_type": "markdown",
      "source": [
        "Data Reshape"
      ],
      "metadata": {
        "id": "MyCgW-HyMUg2"
      }
    },
    {
      "cell_type": "code",
      "source": [
        "X_train_full = X_train_full.reshape((60000,28,28,1))\n",
        "X_test = X_test.reshape((10000,28,28,1))"
      ],
      "metadata": {
        "id": "JyzyEn6_MRvs"
      },
      "execution_count": null,
      "outputs": []
    },
    {
      "cell_type": "markdown",
      "source": [
        "**Data Normalization**"
      ],
      "metadata": {
        "id": "Y6I7FIrrM2kq"
      }
    },
    {
      "cell_type": "code",
      "source": [
        "X_train_n = X_train_full / 255\n",
        "X_test_n = X_test / 255"
      ],
      "metadata": {
        "id": "vthRTrO1MaaJ"
      },
      "execution_count": null,
      "outputs": []
    },
    {
      "cell_type": "markdown",
      "source": [
        "**Splitting the data**"
      ],
      "metadata": {
        "id": "BLpQQ9y_NdKB"
      }
    },
    {
      "cell_type": "code",
      "execution_count": null,
      "metadata": {
        "id": "jPxi6iQfFono"
      },
      "outputs": [],
      "source": [
        "X_valid ,X_train = X_train_n[:5000], X_train_n[5000:]\n",
        "y_valid ,y_train = y_train_full[:5000], y_train_full[5000:]\n",
        "X_test = X_test_n"
      ]
    },
    {
      "cell_type": "code",
      "source": [
        "np.random.seed(42)\n",
        "tf.random.set_seed(42)"
      ],
      "metadata": {
        "id": "vWK0t_PGNhB-"
      },
      "execution_count": null,
      "outputs": []
    },
    {
      "cell_type": "code",
      "source": [
        "model = keras.models.Sequential()\n",
        "model.add(keras.layers.Conv2D(filters= 32, kernel_size = (3,3), strides=1, padding='valid', activation='relu', input_shape=(28,28,1)))\n",
        "model.add(keras.layers.MaxPooling2D(2,2))\n",
        "\n",
        "model.add(keras.layers.Flatten())\n",
        "model.add(keras.layers.Dense(300, activation=\"relu\"))\n",
        "model.add(keras.layers.Dense(100, activation=\"relu\"))\n",
        "model.add(keras.layers.Dense(10, activation=\"softmax\"))"
      ],
      "metadata": {
        "id": "cNjg6wUJNspc"
      },
      "execution_count": null,
      "outputs": []
    },
    {
      "cell_type": "code",
      "source": [
        "model.summary()"
      ],
      "metadata": {
        "colab": {
          "base_uri": "https://localhost:8080/"
        },
        "id": "zxh7DFbMiGXy",
        "outputId": "162c1a00-30a8-42b8-f02b-904d0bd0e4d3"
      },
      "execution_count": null,
      "outputs": [
        {
          "output_type": "stream",
          "name": "stdout",
          "text": [
            "Model: \"sequential\"\n",
            "_________________________________________________________________\n",
            " Layer (type)                Output Shape              Param #   \n",
            "=================================================================\n",
            " conv2d (Conv2D)             (None, 26, 26, 32)        320       \n",
            "                                                                 \n",
            " max_pooling2d (MaxPooling2D  (None, 13, 13, 32)       0         \n",
            " )                                                               \n",
            "                                                                 \n",
            " flatten (Flatten)           (None, 5408)              0         \n",
            "                                                                 \n",
            " dense (Dense)               (None, 300)               1622700   \n",
            "                                                                 \n",
            " dense_1 (Dense)             (None, 100)               30100     \n",
            "                                                                 \n",
            " dense_2 (Dense)             (None, 10)                1010      \n",
            "                                                                 \n",
            "=================================================================\n",
            "Total params: 1,654,130\n",
            "Trainable params: 1,654,130\n",
            "Non-trainable params: 0\n",
            "_________________________________________________________________\n"
          ]
        }
      ]
    },
    {
      "cell_type": "code",
      "source": [
        "import pydot\n",
        "keras.utils.plot_model(model)"
      ],
      "metadata": {
        "colab": {
          "base_uri": "https://localhost:8080/",
          "height": 661
        },
        "id": "7ILAcbkRkd0h",
        "outputId": "6abda392-c1ab-4df8-8c9d-dc2a96f1a547"
      },
      "execution_count": null,
      "outputs": [
        {
          "output_type": "execute_result",
          "data": {
            "text/plain": [
              "<IPython.core.display.Image object>"
            ],
            "image/png": "[encoded data removed]"
          },
          "metadata": {},
          "execution_count": 14
        }
      ]
    },
    {
      "cell_type": "code",
      "source": [
        "model.compile(loss = \"sparse_categorical_crossentropy\", optimizer=\"sgd\", metrics =[\"accuracy\"])"
      ],
      "metadata": {
        "id": "IlT6Fg1Wkqvp"
      },
      "execution_count": null,
      "outputs": []
    },
    {
      "cell_type": "code",
      "source": [
        "model_history = model.fit(X_train,y_train , epochs=50, batch_size=64, \n",
        "                          validation_data=(X_valid,y_valid))"
      ],
      "metadata": {
        "colab": {
          "base_uri": "https://localhost:8080/"
        },
        "id": "QMfKESQ_lGEE",
        "outputId": "0362e49a-b36e-4924-a895-c690439b32d9"
      },
      "execution_count": null,
      "outputs": [
        {
          "output_type": "stream",
          "name": "stdout",
          "text": [
            "Epoch 1/50\n",
            "860/860 [==============================] - 38s 44ms/step - loss: 0.8766 - accuracy: 0.6988 - val_loss: 0.7540 - val_accuracy: 0.7332\n",
            "Epoch 2/50\n",
            "860/860 [==============================] - 37s 43ms/step - loss: 0.5386 - accuracy: 0.8046 - val_loss: 0.4903 - val_accuracy: 0.8212\n",
            "Epoch 3/50\n",
            "860/860 [==============================] - 37s 43ms/step - loss: 0.4810 - accuracy: 0.8261 - val_loss: 0.9134 - val_accuracy: 0.7126\n",
            "Epoch 4/50\n",
            "860/860 [==============================] - 37s 43ms/step - loss: 0.4440 - accuracy: 0.8413 - val_loss: 0.4157 - val_accuracy: 0.8566\n",
            "Epoch 5/50\n",
            "860/860 [==============================] - 37s 43ms/step - loss: 0.4201 - accuracy: 0.8500 - val_loss: 0.4358 - val_accuracy: 0.8478\n",
            "Epoch 6/50\n",
            "860/860 [==============================] - 37s 43ms/step - loss: 0.3956 - accuracy: 0.8582 - val_loss: 0.3753 - val_accuracy: 0.8712\n",
            "Epoch 7/50\n",
            "860/860 [==============================] - 37s 44ms/step - loss: 0.3783 - accuracy: 0.8656 - val_loss: 0.4065 - val_accuracy: 0.8558\n",
            "Epoch 8/50\n",
            "860/860 [==============================] - 38s 44ms/step - loss: 0.3627 - accuracy: 0.8693 - val_loss: 0.5254 - val_accuracy: 0.8050\n",
            "Epoch 9/50\n",
            "860/860 [==============================] - 37s 43ms/step - loss: 0.3489 - accuracy: 0.8741 - val_loss: 0.3730 - val_accuracy: 0.8668\n",
            "Epoch 10/50\n",
            "860/860 [==============================] - 38s 44ms/step - loss: 0.3366 - accuracy: 0.8785 - val_loss: 0.3964 - val_accuracy: 0.8530\n",
            "Epoch 11/50\n",
            "860/860 [==============================] - 37s 43ms/step - loss: 0.3247 - accuracy: 0.8817 - val_loss: 0.3457 - val_accuracy: 0.8750\n",
            "Epoch 12/50\n",
            "860/860 [==============================] - 37s 43ms/step - loss: 0.3132 - accuracy: 0.8869 - val_loss: 0.3225 - val_accuracy: 0.8872\n",
            "Epoch 13/50\n",
            "860/860 [==============================] - 37s 43ms/step - loss: 0.3059 - accuracy: 0.8892 - val_loss: 0.3297 - val_accuracy: 0.8876\n",
            "Epoch 14/50\n",
            "860/860 [==============================] - 38s 44ms/step - loss: 0.2973 - accuracy: 0.8913 - val_loss: 0.3871 - val_accuracy: 0.8584\n",
            "Epoch 15/50\n",
            "860/860 [==============================] - 37s 43ms/step - loss: 0.2893 - accuracy: 0.8950 - val_loss: 0.3827 - val_accuracy: 0.8638\n",
            "Epoch 16/50\n",
            "860/860 [==============================] - 38s 44ms/step - loss: 0.2828 - accuracy: 0.8972 - val_loss: 0.2945 - val_accuracy: 0.8928\n",
            "Epoch 17/50\n",
            "860/860 [==============================] - 38s 44ms/step - loss: 0.2753 - accuracy: 0.9000 - val_loss: 0.4068 - val_accuracy: 0.8596\n",
            "Epoch 18/50\n",
            "860/860 [==============================] - 38s 44ms/step - loss: 0.2697 - accuracy: 0.9010 - val_loss: 0.3461 - val_accuracy: 0.8754\n",
            "Epoch 19/50\n",
            "860/860 [==============================] - 37s 44ms/step - loss: 0.2637 - accuracy: 0.9035 - val_loss: 0.3074 - val_accuracy: 0.8880\n",
            "Epoch 20/50\n",
            "860/860 [==============================] - 38s 44ms/step - loss: 0.2583 - accuracy: 0.9050 - val_loss: 0.3178 - val_accuracy: 0.8856\n",
            "Epoch 21/50\n",
            "860/860 [==============================] - 38s 44ms/step - loss: 0.2520 - accuracy: 0.9084 - val_loss: 0.2833 - val_accuracy: 0.9004\n",
            "Epoch 22/50\n",
            "860/860 [==============================] - 37s 44ms/step - loss: 0.2465 - accuracy: 0.9098 - val_loss: 0.2853 - val_accuracy: 0.8966\n",
            "Epoch 23/50\n",
            "860/860 [==============================] - 37s 43ms/step - loss: 0.2414 - accuracy: 0.9108 - val_loss: 0.2816 - val_accuracy: 0.9032\n",
            "Epoch 24/50\n",
            "860/860 [==============================] - 37s 43ms/step - loss: 0.2366 - accuracy: 0.9130 - val_loss: 0.2987 - val_accuracy: 0.8932\n",
            "Epoch 25/50\n",
            "860/860 [==============================] - 37s 43ms/step - loss: 0.2319 - accuracy: 0.9154 - val_loss: 0.2918 - val_accuracy: 0.8956\n",
            "Epoch 26/50\n",
            "860/860 [==============================] - 37s 43ms/step - loss: 0.2284 - accuracy: 0.9159 - val_loss: 0.2764 - val_accuracy: 0.9034\n",
            "Epoch 27/50\n",
            "860/860 [==============================] - 41s 48ms/step - loss: 0.2242 - accuracy: 0.9181 - val_loss: 0.2833 - val_accuracy: 0.8948\n",
            "Epoch 28/50\n",
            "860/860 [==============================] - 43s 49ms/step - loss: 0.2195 - accuracy: 0.9190 - val_loss: 0.3121 - val_accuracy: 0.8894\n",
            "Epoch 29/50\n",
            "860/860 [==============================] - 37s 43ms/step - loss: 0.2144 - accuracy: 0.9211 - val_loss: 0.2708 - val_accuracy: 0.9022\n",
            "Epoch 30/50\n",
            "860/860 [==============================] - 39s 45ms/step - loss: 0.2118 - accuracy: 0.9217 - val_loss: 0.2734 - val_accuracy: 0.9024\n",
            "Epoch 31/50\n",
            "860/860 [==============================] - 38s 44ms/step - loss: 0.2065 - accuracy: 0.9250 - val_loss: 0.2650 - val_accuracy: 0.9036\n",
            "Epoch 32/50\n",
            "860/860 [==============================] - 37s 43ms/step - loss: 0.2037 - accuracy: 0.9254 - val_loss: 0.2827 - val_accuracy: 0.8986\n",
            "Epoch 33/50\n",
            "860/860 [==============================] - 37s 43ms/step - loss: 0.2000 - accuracy: 0.9267 - val_loss: 0.2814 - val_accuracy: 0.8998\n",
            "Epoch 34/50\n",
            "860/860 [==============================] - 38s 44ms/step - loss: 0.1946 - accuracy: 0.9291 - val_loss: 0.2731 - val_accuracy: 0.9020\n",
            "Epoch 35/50\n",
            "860/860 [==============================] - 37s 43ms/step - loss: 0.1910 - accuracy: 0.9314 - val_loss: 0.2557 - val_accuracy: 0.9088\n",
            "Epoch 36/50\n",
            "860/860 [==============================] - 37s 43ms/step - loss: 0.1880 - accuracy: 0.9312 - val_loss: 0.2790 - val_accuracy: 0.9032\n",
            "Epoch 37/50\n",
            "860/860 [==============================] - 37s 43ms/step - loss: 0.1840 - accuracy: 0.9329 - val_loss: 0.2545 - val_accuracy: 0.9076\n",
            "Epoch 38/50\n",
            "860/860 [==============================] - 37s 43ms/step - loss: 0.1803 - accuracy: 0.9345 - val_loss: 0.2496 - val_accuracy: 0.9120\n",
            "Epoch 39/50\n",
            "860/860 [==============================] - 37s 43ms/step - loss: 0.1774 - accuracy: 0.9350 - val_loss: 0.2561 - val_accuracy: 0.9088\n",
            "Epoch 40/50\n",
            "860/860 [==============================] - 37s 43ms/step - loss: 0.1742 - accuracy: 0.9365 - val_loss: 0.2527 - val_accuracy: 0.9072\n",
            "Epoch 41/50\n",
            "860/860 [==============================] - 37s 43ms/step - loss: 0.1696 - accuracy: 0.9391 - val_loss: 0.2489 - val_accuracy: 0.9100\n",
            "Epoch 42/50\n",
            "860/860 [==============================] - 38s 44ms/step - loss: 0.1662 - accuracy: 0.9403 - val_loss: 0.2501 - val_accuracy: 0.9094\n",
            "Epoch 43/50\n",
            "860/860 [==============================] - 37s 44ms/step - loss: 0.1626 - accuracy: 0.9416 - val_loss: 0.3569 - val_accuracy: 0.8688\n",
            "Epoch 44/50\n",
            "860/860 [==============================] - 37s 43ms/step - loss: 0.1594 - accuracy: 0.9424 - val_loss: 0.2826 - val_accuracy: 0.8976\n",
            "Epoch 45/50\n",
            "860/860 [==============================] - 37s 43ms/step - loss: 0.1556 - accuracy: 0.9450 - val_loss: 0.2558 - val_accuracy: 0.9090\n",
            "Epoch 46/50\n",
            "860/860 [==============================] - 37s 44ms/step - loss: 0.1532 - accuracy: 0.9449 - val_loss: 0.2677 - val_accuracy: 0.9018\n",
            "Epoch 47/50\n",
            "860/860 [==============================] - 37s 43ms/step - loss: 0.1487 - accuracy: 0.9475 - val_loss: 0.2526 - val_accuracy: 0.9096\n",
            "Epoch 48/50\n",
            "860/860 [==============================] - 37s 43ms/step - loss: 0.1463 - accuracy: 0.9480 - val_loss: 0.2728 - val_accuracy: 0.9060\n",
            "Epoch 49/50\n",
            "860/860 [==============================] - 37s 43ms/step - loss: 0.1433 - accuracy: 0.9492 - val_loss: 0.2542 - val_accuracy: 0.9072\n",
            "Epoch 50/50\n",
            "860/860 [==============================] - 37s 43ms/step - loss: 0.1401 - accuracy: 0.9489 - val_loss: 0.2602 - val_accuracy: 0.9096\n"
          ]
        }
      ]
    },
    {
      "cell_type": "code",
      "source": [
        "pd.DataFrame(model_history.history).plot(figsize=(8,5))\n",
        "plt.grid(True)\n",
        "plt.gca().set_ylim(0,1)\n",
        "plt.show"
      ],
      "metadata": {
        "id": "BuDyl9C9luy_"
      },
      "execution_count": null,
      "outputs": []
    },
    {
      "cell_type": "code",
      "source": [
        "model.evaluate(X_test, y_test)"
      ],
      "metadata": {
        "id": "I6YOgj38plb4"
      },
      "execution_count": null,
      "outputs": []
    }
  ]
}